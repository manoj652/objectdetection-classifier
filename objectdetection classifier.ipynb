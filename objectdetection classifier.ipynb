{
 "cells": [
  {
   "cell_type": "code",
   "execution_count": 1,
   "metadata": {},
   "outputs": [
    {
     "name": "stderr",
     "output_type": "stream",
     "text": [
      "Using TensorFlow backend.\n"
     ]
    }
   ],
   "source": [
    "# import libaries\n",
    "import pandas as pd\n",
    "import numpy as np\n",
    "import cv2\n",
    "import os, sys\n",
    "from tqdm import tqdm\n",
    "from keras import applications\n",
    "from keras.models import Model\n",
    "from keras import optimizers\n",
    "from keras.models import Sequential\n",
    "from keras.layers import Dense, Dropout, Flatten\n",
    "from keras.layers import Conv2D, MaxPooling2D\n",
    "from keras.layers.normalization import BatchNormalization\n",
    "from keras.metrics import categorical_accuracy\n",
    "from keras.preprocessing.image import ImageDataGenerator\n",
    "from keras.callbacks import EarlyStopping\n",
    "from keras.utils import to_categorical\n",
    "from keras.preprocessing.image import ImageDataGenerator\n",
    "from keras.callbacks import ModelCheckpoint"
   ]
  },
  {
   "cell_type": "code",
   "execution_count": 2,
   "metadata": {},
   "outputs": [
    {
     "name": "stdout",
     "output_type": "stream",
     "text": [
      "(3215, 2)\n",
      "(1732, 1)\n"
     ]
    }
   ],
   "source": [
    "# load data\n",
    "#train = pd.read_csv('train.csv')\n",
    "#test = pd.read_csv('test.csv')\n",
    "train = pd.read_csv('/home/amarendra/Desktop/Manoj/a0409a00-8-dataset_dp/train.csv')\n",
    "test = pd.read_csv('/home/amarendra/Desktop/Manoj/a0409a00-8-dataset_dp/test.csv')\n",
    "\n",
    "print(train.shape)\n",
    "print(test.shape)"
   ]
  },
  {
   "cell_type": "code",
   "execution_count": 3,
   "metadata": {},
   "outputs": [],
   "source": [
    "TRAIN_PATH = 'train_img/'\n",
    "TEST_PATH = 'test_img/'"
   ]
  },
  {
   "cell_type": "code",
   "execution_count": 4,
   "metadata": {},
   "outputs": [],
   "source": [
    "# function to read image\n",
    "def read_img2(img_path2):\n",
    "    img2 = cv2.imread(img_path2, cv2.IMREAD_COLOR)\n",
    "    img2 = cv2.resize(img2, (140,140))\n",
    "    return img2"
   ]
  },
  {
   "cell_type": "code",
   "execution_count": 5,
   "metadata": {},
   "outputs": [
    {
     "name": "stderr",
     "output_type": "stream",
     "text": [
      "100%|██████████| 3215/3215 [00:16<00:00, 191.89it/s]\n",
      "100%|██████████| 1732/1732 [00:11<00:00, 153.66it/s]\n"
     ]
    }
   ],
   "source": [
    "# load data D\n",
    "train_img2, test_img2 = [],[]\n",
    "for img_path2 in tqdm(train['image_id'].values):\n",
    "    train_img2.append(read_img2(TRAIN_PATH + img_path2 + '.png'))\n",
    "\n",
    "for img_path2 in tqdm(test['image_id'].values):\n",
    "    test_img2.append(read_img2(TEST_PATH + img_path2 + '.png'))"
   ]
  },
  {
   "cell_type": "code",
   "execution_count": 6,
   "metadata": {},
   "outputs": [],
   "source": [
    "cv2.imshow('Edges',train_img2[0])\n",
    "cv2.waitKey(0)\n",
    "cv2.destroyAllWindows()"
   ]
  },
  {
   "cell_type": "code",
   "execution_count": 7,
   "metadata": {},
   "outputs": [],
   "source": [
    "# normalize images (0 to 1)\n",
    "x_train2 = np.array(train_img2, np.float32) / 255.\n",
    "x_test = np.array(test_img2, np.float32) / 255."
   ]
  },
  {
   "cell_type": "code",
   "execution_count": 9,
   "metadata": {},
   "outputs": [],
   "source": [
    "# target variable - encoding numeric value\n",
    "label_list2 = train['label'].tolist()\n",
    "Y_train2 = {k:v+1 for v,k in enumerate(set(label_list2))}\n",
    "y_train2 = [Y_train2[k] for k in label_list2]  \n",
    "y_train2 = np.array(y_train2)\n",
    "y_train2 = to_categorical(y_train2)"
   ]
  },
  {
   "cell_type": "code",
   "execution_count": 10,
   "metadata": {},
   "outputs": [
    {
     "name": "stdout",
     "output_type": "stream",
     "text": [
      "Epoch 1/10\n",
      "114/114 [==============================] - 1042s - loss: 2.8382 - acc: 0.2055  "
     ]
    },
    {
     "name": "stderr",
     "output_type": "stream",
     "text": [
      "/usr/local/lib/python2.7/dist-packages/keras/callbacks.py:405: RuntimeWarning: Can save best model only with val_acc available, skipping.\n",
      "  'skipping.' % (self.monitor), RuntimeWarning)\n"
     ]
    },
    {
     "name": "stdout",
     "output_type": "stream",
     "text": [
      "\n",
      "Epoch 2/10\n",
      "114/114 [==============================] - 1032s - loss: 1.7813 - acc: 0.4764  \n",
      "Epoch 3/10\n",
      "114/114 [==============================] - 1033s - loss: 1.2385 - acc: 0.6200  \n",
      "Epoch 4/10\n",
      "114/114 [==============================] - 1033s - loss: 0.8840 - acc: 0.7362  \n",
      "Epoch 5/10\n",
      "114/114 [==============================] - 1035s - loss: 0.6562 - acc: 0.7966  \n",
      "Epoch 6/10\n",
      "114/114 [==============================] - 1035s - loss: 0.4981 - acc: 0.8445  \n",
      "Epoch 7/10\n",
      "114/114 [==============================] - 1041s - loss: 0.4069 - acc: 0.8773  \n",
      "Epoch 8/10\n",
      "114/114 [==============================] - 1032s - loss: 0.3084 - acc: 0.9010  \n",
      "Epoch 9/10\n",
      "114/114 [==============================] - 1033s - loss: 0.2787 - acc: 0.9083  \n",
      "Epoch 10/10\n",
      "114/114 [==============================] - 1032s - loss: 0.2526 - acc: 0.9220  \n"
     ]
    }
   ],
   "source": [
    "#Transfer learning with Inception V3\n",
    "base_model2 = applications.InceptionV3(weights='imagenet', include_top=False, input_shape=(140, 140, 3))\n",
    "## set model2 architechture\n",
    "add_model2 = Sequential()\n",
    "add_model2.add(Flatten(input_shape=base_model2.output_shape[1:]))\n",
    "add_model2.add(Dense(256, activation='relu'))\n",
    "add_model2.add(Dense(y_train2.shape[1], activation='softmax'))\n",
    "\n",
    "model2 = Model(inputs=base_model2.input, outputs=add_model2(base_model2.output))\n",
    "model2.compile(loss='categorical_crossentropy', optimizer=optimizers.Adam(lr=1e-4),\n",
    "              metrics=['accuracy'])\n",
    "\n",
    "\n",
    "batch_size = 28 # tune it\n",
    "epochs = 10 # increase it\n",
    "\n",
    "train_datagen2 = ImageDataGenerator(\n",
    "        rotation_range=30,\n",
    "        width_shift_range=0.1,\n",
    "        height_shift_range=0.1,\n",
    "        horizontal_flip=True)\n",
    "train_datagen2.fit(x_train2)\n",
    "\n",
    "\n",
    "history2 = model2.fit_generator(\n",
    "    train_datagen2.flow(x_train2, y_train2, batch_size=batch_size),\n",
    "    steps_per_epoch=x_train2.shape[0] // batch_size,\n",
    "    epochs=epochs,\n",
    "    callbacks=[ModelCheckpoint('Inception-transferlearning.model2', monitor='val_acc', save_best_only=True)]\n",
    ")\n"
   ]
  },
  {
   "cell_type": "code",
   "execution_count": 11,
   "metadata": {},
   "outputs": [],
   "source": [
    "#predict test data\n",
    "predictions2 = model2.predict(x_test)\n",
    "# get labels\n",
    "predictions2 = np.argmax(predictions2, axis=1)\n",
    "rev_y2 = {v:k for k,v in Y_train2.items()}\n",
    "pred_labels2 = [rev_y2[k] for k in predictions2]\n"
   ]
  },
  {
   "cell_type": "code",
   "execution_count": 14,
   "metadata": {},
   "outputs": [],
   "source": [
    "\n",
    "## make submission\n",
    "sub2 = pd.DataFrame({'image_id':test.image_id, 'label':pred_labels2})\n",
    "sub2.to_csv('subm1.csv', index=False)                                                                                                                                                                                                                                                                                                                                                                                                                                                                                                                                                                                                                                                                                                                                                                                                                                                                                                                                                                                                                                                                                                                                                                                                                                                                                                                                                                                                                                                                                                                                                                                                                                                                                                                                                                                                                                                                                                                                                                                                                                                                                                                                                                                                                                                                                                                                                                                                                                                                                                                                                                                                                                                                                                                                                                                                                                                                                                                                                                                                                                                                                                                                                                                                                                                                                                                                                                                                                                                                                                                                                                                                                                                                                                                                                                                                                                                                                                                                                                                                                                                                                                                                                                                                                                                                                                                                                                                                                                                                                                                                                                                                                                                                                                                                                                                                                                                                                                                                                                                                                                                                                                                                                                                                                                                                                                                                                                                                                                                                                                                                                                                                                                                                                                                                                                                                                                                                                                                                                                                                                                                                                                                                                                                                                                                                                                                                                                                                                                                                                                                                                                                                                                                                                                                                                                                                                                                                                                                                                                                                                                                                                                                                                                                                                                                                                                                                                                                                                                                                                                                                                                                                                                                                                                                                                                                                                                                                                                                                                                                                                                                                                                                                                                                                                                                                                                                                                                                                                                                                                                                                                                                                                                                                                                                                                                                                                                                                                                                                                                                                                                                                                                                                                                                                                                                                                                                                                                                                                                                                                                                                                                                                \n",
    "\n"
   ]
  }
 ],
 "metadata": {
  "kernelspec": {
   "display_name": "Python 2",
   "language": "python",
   "name": "python2"
  },
  "language_info": {
   "codemirror_mode": {
    "name": "ipython",
    "version": 2
   },
   "file_extension": ".py",
   "mimetype": "text/x-python",
   "name": "python",
   "nbconvert_exporter": "python",
   "pygments_lexer": "ipython2",
   "version": "2.7.12"
  }
 },
 "nbformat": 4,
 "nbformat_minor": 2
}
